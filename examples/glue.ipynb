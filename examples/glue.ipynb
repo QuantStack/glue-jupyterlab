{
 "cells": [
  {
   "cell_type": "code",
   "execution_count": 1,
   "id": "cd666ccf-b37a-4af4-bd95-071084b91cc7",
   "metadata": {},
   "outputs": [
    {
     "name": "stdout",
     "output_type": "stream",
     "text": [
      "hello\n"
     ]
    }
   ],
   "source": [
    "print('hello')"
   ]
  },
  {
   "cell_type": "code",
   "execution_count": 1,
   "id": "3567b9e8-3233-4767-83cf-d86f02549189",
   "metadata": {},
   "outputs": [],
   "source": [
    "class Foo:\n",
    "    def __getattr__(self, k):\n",
    "        print('called', k)\n",
    "        return self.__getattribute__(k)"
   ]
  },
  {
   "cell_type": "code",
   "execution_count": 11,
   "id": "359d02bb-68b6-40f1-b3f3-4e502c755645",
   "metadata": {},
   "outputs": [],
   "source": [
    "class Bar():\n",
    "  def __init__(self):\n",
    "    super()\n",
    "    self.a = 1\n",
    "    self.b = 2\n",
    "  def asd(self):\n",
    "    return 4"
   ]
  },
  {
   "cell_type": "code",
   "execution_count": 12,
   "id": "3c4acbe5-5581-47a2-b275-bd27f3b5245f",
   "metadata": {},
   "outputs": [],
   "source": [
    "b=Bar()"
   ]
  },
  {
   "cell_type": "code",
   "execution_count": 14,
   "id": "1ff92229-d67b-4fd4-a450-5794bb184111",
   "metadata": {},
   "outputs": [
    {
     "data": {
      "text/plain": [
       "4"
      ]
     },
     "execution_count": 14,
     "metadata": {},
     "output_type": "execute_result"
    }
   ],
   "source": [
    "b.asd()"
   ]
  },
  {
   "cell_type": "code",
   "execution_count": 7,
   "id": "e72bae9e-11ec-4e2d-b8c1-10f2eab41294",
   "metadata": {},
   "outputs": [],
   "source": [
    "c = Foo()"
   ]
  },
  {
   "cell_type": "code",
   "execution_count": 8,
   "id": "cec0e84a-a458-4043-aa8a-e43abdccb9d9",
   "metadata": {},
   "outputs": [
    {
     "name": "stdout",
     "output_type": "stream",
     "text": [
      "called a\n"
     ]
    },
    {
     "ename": "AttributeError",
     "evalue": "'Foo' object has no attribute 'a'",
     "output_type": "error",
     "traceback": [
      "\u001b[0;31m---------------------------------------------------------------------------\u001b[0m",
      "\u001b[0;31mAttributeError\u001b[0m                            Traceback (most recent call last)",
      "Cell \u001b[0;32mIn[8], line 1\u001b[0m\n\u001b[0;32m----> 1\u001b[0m \u001b[43mc\u001b[49m\u001b[38;5;241;43m.\u001b[39;49m\u001b[43ma\u001b[49m\n",
      "Cell \u001b[0;32mIn[1], line 4\u001b[0m, in \u001b[0;36mFoo.__getattr__\u001b[0;34m(self, k)\u001b[0m\n\u001b[1;32m      2\u001b[0m \u001b[38;5;28;01mdef\u001b[39;00m \u001b[38;5;21m__getattr__\u001b[39m(\u001b[38;5;28mself\u001b[39m, k):\n\u001b[1;32m      3\u001b[0m     \u001b[38;5;28mprint\u001b[39m(\u001b[38;5;124m'\u001b[39m\u001b[38;5;124mcalled\u001b[39m\u001b[38;5;124m'\u001b[39m, k)\n\u001b[0;32m----> 4\u001b[0m     \u001b[38;5;28;01mreturn\u001b[39;00m \u001b[38;5;28;43mself\u001b[39;49m\u001b[38;5;241;43m.\u001b[39;49m\u001b[38;5;21;43m__getattribute__\u001b[39;49m\u001b[43m(\u001b[49m\u001b[43mk\u001b[49m\u001b[43m)\u001b[49m\n",
      "\u001b[0;31mAttributeError\u001b[0m: 'Foo' object has no attribute 'a'"
     ]
    }
   ],
   "source": [
    "c.a"
   ]
  },
  {
   "cell_type": "code",
   "execution_count": null,
   "id": "6f526560-dd61-4190-aba6-2044657033d7",
   "metadata": {},
   "outputs": [],
   "source": []
  }
 ],
 "metadata": {
  "kernelspec": {
   "display_name": "Python 3 (ipykernel)",
   "language": "python",
   "name": "python3"
  },
  "language_info": {
   "codemirror_mode": {
    "name": "ipython",
    "version": 3
   },
   "file_extension": ".py",
   "mimetype": "text/x-python",
   "name": "python",
   "nbconvert_exporter": "python",
   "pygments_lexer": "ipython3",
   "version": "3.10.9"
  }
 },
 "nbformat": 4,
 "nbformat_minor": 5
}
