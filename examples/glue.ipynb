{
 "cells": [
  {
   "cell_type": "code",
   "execution_count": 7,
   "id": "cd666ccf-b37a-4af4-bd95-071084b91cc7",
   "metadata": {},
   "outputs": [],
   "source": [
    "import glue_jupyter as gj\n",
    "app = gj.jglue()\n",
    "data_image = app.load_data('examples/w5.fits')"
   ]
  },
  {
   "cell_type": "code",
   "execution_count": 8,
   "id": "9bad5d31-8a07-4a58-8af3-2cc5a0faed62",
   "metadata": {},
   "outputs": [],
   "source": [
    "data_catalog = app.load_data('examples/w5_psc.csv')"
   ]
  },
  {
   "cell_type": "code",
   "execution_count": 9,
   "id": "658549e9-a832-4edf-ae62-fe484f7ea627",
   "metadata": {},
   "outputs": [
    {
     "data": {
      "application/vnd.jupyter.widget-view+json": {
       "model_id": "e84c3e231ad9425bb21c55b79d0eae97",
       "version_major": 2,
       "version_minor": 0
      },
      "text/plain": [
       "LayoutWidget(controls={'toolbar_selection_tools': BasicJupyterToolbar(template=Template(template='<template>\\n…"
      ]
     },
     "metadata": {},
     "output_type": "display_data"
    }
   ],
   "source": [
    "scatter_viewer = app.scatter2d(x='[4.5]-[5.8]', y='[8.0]', data=data_catalog)"
   ]
  },
  {
   "cell_type": "code",
   "execution_count": 10,
   "id": "a0d1a762-dd08-46da-a367-67cf9af15f8b",
   "metadata": {},
   "outputs": [
    {
     "data": {
      "application/vnd.jupyter.widget-view+json": {
       "model_id": "86b3bda992004e55acd02320145ca5fd",
       "version_major": 2,
       "version_minor": 0
      },
      "text/plain": [
       "LayoutWidget(controls={'toolbar_selection_tools': BasicJupyterToolbar(template=Template(template='<template>\\n…"
      ]
     },
     "metadata": {},
     "output_type": "display_data"
    }
   ],
   "source": [
    "scatter_viewer = app.scatter2d(x='[4.5]-[5.8]', y='[8.0]', data=data_catalog)"
   ]
  },
  {
   "cell_type": "code",
   "execution_count": null,
   "id": "557387f9-bc61-470a-9d7f-6dfdf9da7f9c",
   "metadata": {},
   "outputs": [],
   "source": []
  }
 ],
 "metadata": {
  "kernelspec": {
   "display_name": "Python 3 (ipykernel)",
   "language": "python",
   "name": "python3"
  },
  "language_info": {
   "codemirror_mode": {
    "name": "ipython",
    "version": 3
   },
   "file_extension": ".py",
   "mimetype": "text/x-python",
   "name": "python",
   "nbconvert_exporter": "python",
   "pygments_lexer": "ipython3",
   "version": "3.9.16"
  }
 },
 "nbformat": 4,
 "nbformat_minor": 5
}
